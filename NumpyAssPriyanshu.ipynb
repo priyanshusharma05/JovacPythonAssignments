{
 "cells": [
  {
   "cell_type": "markdown",
   "id": "ee40ce7a",
   "metadata": {},
   "source": [
    "### Question 1\n",
    "\n",
    "Create a NumPy array arr of integers from 0 to 5 and print its data type.\n"
   ]
  },
  {
   "cell_type": "code",
   "execution_count": 2,
   "id": "0a1248ed",
   "metadata": {},
   "outputs": [
    {
     "name": "stdout",
     "output_type": "stream",
     "text": [
      "int32\n"
     ]
    }
   ],
   "source": [
    "import numpy as np\n",
    "arr = np.arange(6)\n",
    "print(arr.dtype)"
   ]
  },
  {
   "cell_type": "markdown",
   "id": "c1202d8a",
   "metadata": {},
   "source": [
    "### Question 2\n",
    "\n",
    "Given a NumPy array arr, check if its data type is float64.\n"
   ]
  },
  {
   "cell_type": "code",
   "execution_count": 3,
   "id": "b15edcc3",
   "metadata": {},
   "outputs": [
    {
     "name": "stdout",
     "output_type": "stream",
     "text": [
      "True\n"
     ]
    }
   ],
   "source": [
    "arr = np.array([1.0, 2.0])\n",
    "print(arr.dtype == np.float64)"
   ]
  },
  {
   "cell_type": "markdown",
   "id": "482e57a1",
   "metadata": {},
   "source": [
    "### Question 3\n",
    "\n",
    "Create a NumPy array arr with a data type of complex128 containing three complex numbers.\n"
   ]
  },
  {
   "cell_type": "code",
   "execution_count": 4,
   "id": "df9b213e",
   "metadata": {},
   "outputs": [
    {
     "name": "stdout",
     "output_type": "stream",
     "text": [
      "[1.+2.j 3.+4.j 5.+6.j]\n"
     ]
    }
   ],
   "source": [
    "arr = np.array([1+2j, 3+4j, 5+6j], dtype=np.complex128)\n",
    "print(arr)"
   ]
  },
  {
   "cell_type": "markdown",
   "id": "5c373ed2",
   "metadata": {},
   "source": [
    "### Question 4\n",
    "\n",
    "Convert an existing NumPy array arr of integers to float32 data type.\n"
   ]
  },
  {
   "cell_type": "code",
   "execution_count": 5,
   "id": "c05db1ef",
   "metadata": {},
   "outputs": [
    {
     "name": "stdout",
     "output_type": "stream",
     "text": [
      "float32\n"
     ]
    }
   ],
   "source": [
    "arr = np.array([1, 2, 3])\n",
    "arr = arr.astype(np.float32)\n",
    "print(arr.dtype)"
   ]
  },
  {
   "cell_type": "markdown",
   "id": "dc4f811d",
   "metadata": {},
   "source": [
    "### Question 5\n",
    "\n",
    "Given a NumPy array arr with float64 data type, convert it to float32 to reduce decimal precision.\n"
   ]
  },
  {
   "cell_type": "code",
   "execution_count": 6,
   "id": "7f112d13",
   "metadata": {},
   "outputs": [
    {
     "name": "stdout",
     "output_type": "stream",
     "text": [
      "float32\n"
     ]
    }
   ],
   "source": [
    "arr = np.array([1.1, 2.2, 3.3], dtype=np.float64)\n",
    "arr = arr.astype(np.float32)\n",
    "print(arr.dtype)"
   ]
  },
  {
   "cell_type": "markdown",
   "id": "24981d2b",
   "metadata": {},
   "source": [
    "### Question 6\n",
    "\n",
    "Write a function array_attributes that takes a NumPy array as input and returns its shape, size, and data type.\n"
   ]
  },
  {
   "cell_type": "code",
   "execution_count": 7,
   "id": "91e692fb",
   "metadata": {},
   "outputs": [
    {
     "name": "stdout",
     "output_type": "stream",
     "text": [
      "((2, 2), 4, dtype('int32'))\n"
     ]
    }
   ],
   "source": [
    "def array_attributes(arr):\n",
    "    return arr.shape, arr.size, arr.dtype\n",
    "print(array_attributes(np.array([[1,2],[3,4]])))"
   ]
  },
  {
   "cell_type": "markdown",
   "id": "598d2cef",
   "metadata": {},
   "source": [
    "### Question 7\n",
    "\n",
    "Create a function array_dimension that returns the dimensionality of a NumPy array.\n"
   ]
  },
  {
   "cell_type": "code",
   "execution_count": 8,
   "id": "79a6a613",
   "metadata": {},
   "outputs": [
    {
     "name": "stdout",
     "output_type": "stream",
     "text": [
      "2\n"
     ]
    }
   ],
   "source": [
    "def array_dimension(arr):\n",
    "    return arr.ndim\n",
    "print(array_dimension(np.array([[1],[2]])))"
   ]
  },
  {
   "cell_type": "markdown",
   "id": "4eaad9e9",
   "metadata": {},
   "source": [
    "### Question 8\n",
    "\n",
    "Design a function item_size_info that returns the item size and total size in bytes of a NumPy array.\n"
   ]
  },
  {
   "cell_type": "code",
   "execution_count": 9,
   "id": "2263479e",
   "metadata": {},
   "outputs": [
    {
     "name": "stdout",
     "output_type": "stream",
     "text": [
      "(4, 12)\n"
     ]
    }
   ],
   "source": [
    "def item_size_info(arr):\n",
    "    return arr.itemsize, arr.nbytes\n",
    "print(item_size_info(np.array([1,2,3])))"
   ]
  },
  {
   "cell_type": "markdown",
   "id": "6f768888",
   "metadata": {},
   "source": [
    "### Question 9\n",
    "\n",
    "Create a function array_strides that returns the strides of the given NumPy array.\n"
   ]
  },
  {
   "cell_type": "code",
   "execution_count": 10,
   "id": "ed92e822",
   "metadata": {},
   "outputs": [
    {
     "name": "stdout",
     "output_type": "stream",
     "text": [
      "(8, 4)\n"
     ]
    }
   ],
   "source": [
    "def array_strides(arr):\n",
    "    return arr.strides\n",
    "print(array_strides(np.array([[1,2],[3,4]])))"
   ]
  },
  {
   "cell_type": "markdown",
   "id": "a35b783d",
   "metadata": {},
   "source": [
    "### Question 10\n",
    "\n",
    "Design a function shape_stride_relationship that returns the shape and strides of the given array.\n"
   ]
  },
  {
   "cell_type": "code",
   "execution_count": 11,
   "id": "b159146e",
   "metadata": {},
   "outputs": [
    {
     "name": "stdout",
     "output_type": "stream",
     "text": [
      "((2, 2), (8, 4))\n"
     ]
    }
   ],
   "source": [
    "def shape_stride_relationship(arr):\n",
    "    return arr.shape, arr.strides\n",
    "print(shape_stride_relationship(np.array([[1,2],[3,4]])))"
   ]
  },
  {
   "cell_type": "markdown",
   "id": "01b99f16",
   "metadata": {},
   "source": [
    "### Question 11\n",
    "\n",
    "Create a function create_zeros_array(n) to return a NumPy array of zeros with n elements.\n"
   ]
  },
  {
   "cell_type": "code",
   "execution_count": 12,
   "id": "951f3bac",
   "metadata": {},
   "outputs": [
    {
     "name": "stdout",
     "output_type": "stream",
     "text": [
      "[0. 0. 0. 0. 0.]\n"
     ]
    }
   ],
   "source": [
    "def create_zeros_array(n):\n",
    "    return np.zeros(n)\n",
    "print(create_zeros_array(5))"
   ]
  },
  {
   "cell_type": "markdown",
   "id": "78a752f4",
   "metadata": {},
   "source": [
    "### Question 12\n",
    "\n",
    "Write a function create_ones_matrix(rows, cols) to create a 2D array filled with ones.\n"
   ]
  },
  {
   "cell_type": "code",
   "execution_count": 13,
   "id": "a20de888",
   "metadata": {},
   "outputs": [
    {
     "name": "stdout",
     "output_type": "stream",
     "text": [
      "[[1. 1. 1.]\n",
      " [1. 1. 1.]]\n"
     ]
    }
   ],
   "source": [
    "def create_ones_matrix(rows, cols):\n",
    "    return np.ones((rows, cols))\n",
    "print(create_ones_matrix(2,3))"
   ]
  },
  {
   "cell_type": "markdown",
   "id": "213e8e8f",
   "metadata": {},
   "source": [
    "### Question 13\n",
    "\n",
    "Write a function generate_range_array(start, stop, step) to create a ranged NumPy array.\n"
   ]
  },
  {
   "cell_type": "code",
   "execution_count": 14,
   "id": "21c722d1",
   "metadata": {},
   "outputs": [
    {
     "name": "stdout",
     "output_type": "stream",
     "text": [
      "[0 2 4 6 8]\n"
     ]
    }
   ],
   "source": [
    "def generate_range_array(start, stop, step):\n",
    "    return np.arange(start, stop, step)\n",
    "print(generate_range_array(0,10,2))"
   ]
  },
  {
   "cell_type": "markdown",
   "id": "734a1104",
   "metadata": {},
   "source": [
    "### Question 14\n",
    "\n",
    "Design a function generate_linear_space(start, stop, num) for equally spaced values.\n"
   ]
  },
  {
   "cell_type": "code",
   "execution_count": 15,
   "id": "10a6503f",
   "metadata": {},
   "outputs": [
    {
     "name": "stdout",
     "output_type": "stream",
     "text": [
      "[0.   0.25 0.5  0.75 1.  ]\n"
     ]
    }
   ],
   "source": [
    "def generate_linear_space(start, stop, num):\n",
    "    return np.linspace(start, stop, num)\n",
    "print(generate_linear_space(0,1,5))"
   ]
  },
  {
   "cell_type": "markdown",
   "id": "1e203685",
   "metadata": {},
   "source": [
    "### Question 15\n",
    "\n",
    "Create a function create_identity_matrix(n) using numpy.eye.\n"
   ]
  },
  {
   "cell_type": "code",
   "execution_count": 16,
   "id": "c42e236f",
   "metadata": {},
   "outputs": [
    {
     "name": "stdout",
     "output_type": "stream",
     "text": [
      "[[1. 0. 0.]\n",
      " [0. 1. 0.]\n",
      " [0. 0. 1.]]\n"
     ]
    }
   ],
   "source": [
    "def create_identity_matrix(n):\n",
    "    return np.eye(n)\n",
    "print(create_identity_matrix(3))"
   ]
  },
  {
   "cell_type": "markdown",
   "id": "9f3be40a",
   "metadata": {},
   "source": [
    "### Question 16\n",
    "\n",
    "Write a function that converts a Python list into a NumPy array.\n"
   ]
  },
  {
   "cell_type": "code",
   "execution_count": 17,
   "id": "c3f1993c",
   "metadata": {},
   "outputs": [
    {
     "name": "stdout",
     "output_type": "stream",
     "text": [
      "[1 2 3]\n"
     ]
    }
   ],
   "source": [
    "def list_to_array(lst):\n",
    "    return np.array(lst)\n",
    "print(list_to_array([1,2,3]))"
   ]
  },
  {
   "cell_type": "markdown",
   "id": "d499a2f8",
   "metadata": {},
   "source": [
    "### Question 17\n",
    "\n",
    "Create a NumPy array and use numpy.view() to create a new view with the same data.\n"
   ]
  },
  {
   "cell_type": "code",
   "execution_count": 18,
   "id": "7f9990b0",
   "metadata": {},
   "outputs": [
    {
     "name": "stdout",
     "output_type": "stream",
     "text": [
      "[1 2 3 4]\n"
     ]
    }
   ],
   "source": [
    "arr = np.array([1,2,3,4])\n",
    "view_arr = arr.view()\n",
    "print(view_arr)"
   ]
  },
  {
   "cell_type": "markdown",
   "id": "dac6b20d",
   "metadata": {},
   "source": [
    "### Question 18\n",
    "\n",
    "Write a function to concatenate two NumPy arrays along a specified axis.\n"
   ]
  },
  {
   "cell_type": "code",
   "execution_count": 19,
   "id": "76a04517",
   "metadata": {},
   "outputs": [
    {
     "name": "stdout",
     "output_type": "stream",
     "text": [
      "[[1 2]\n",
      " [3 4]]\n"
     ]
    }
   ],
   "source": [
    "def concat_arrays(a,b,axis):\n",
    "    return np.concatenate((a,b),axis=axis)\n",
    "print(concat_arrays(np.array([[1,2]]),np.array([[3,4]]),0))"
   ]
  },
  {
   "cell_type": "markdown",
   "id": "cc8e2ec3",
   "metadata": {},
   "source": [
    "### Question 19\n",
    "\n",
    "Concatenate two arrays with different shapes horizontally using numpy.concatenate.\n"
   ]
  },
  {
   "cell_type": "code",
   "execution_count": 20,
   "id": "f1fc783a",
   "metadata": {},
   "outputs": [
    {
     "name": "stdout",
     "output_type": "stream",
     "text": [
      "[[1 3 4]\n",
      " [2 5 6]]\n"
     ]
    }
   ],
   "source": [
    "a = np.array([[1],[2]])\n",
    "b = np.array([[3,4],[5,6]])\n",
    "print(np.concatenate((a,b),axis=1))"
   ]
  },
  {
   "cell_type": "markdown",
   "id": "2f8b03c4",
   "metadata": {},
   "source": [
    "### Question 20\n",
    "\n",
    "Vertically stack multiple arrays from a list using numpy.vstack.\n"
   ]
  },
  {
   "cell_type": "code",
   "execution_count": 21,
   "id": "f85c59c0",
   "metadata": {},
   "outputs": [
    {
     "name": "stdout",
     "output_type": "stream",
     "text": [
      "[[1 2]\n",
      " [3 4]]\n"
     ]
    }
   ],
   "source": [
    "arrays = [np.array([1,2]), np.array([3,4])]\n",
    "print(np.vstack(arrays))"
   ]
  },
  {
   "cell_type": "markdown",
   "id": "0bf47e91",
   "metadata": {},
   "source": [
    "### Question 21\n",
    "\n",
    "Write a function to generate an array of integers within a specified range (inclusive) with a step.\n"
   ]
  },
  {
   "cell_type": "code",
   "execution_count": 22,
   "id": "1cadd94f",
   "metadata": {},
   "outputs": [
    {
     "name": "stdout",
     "output_type": "stream",
     "text": [
      "[1 2 3 4 5]\n"
     ]
    }
   ],
   "source": [
    "def gen_array_range(start, stop, step):\n",
    "    return np.arange(start, stop+1, step)\n",
    "print(gen_array_range(1,5,1))"
   ]
  },
  {
   "cell_type": "markdown",
   "id": "2f8dfc29",
   "metadata": {},
   "source": [
    "### Question 22\n",
    "\n",
    "Generate 10 equally spaced values between 0 and 1 using NumPy.\n"
   ]
  },
  {
   "cell_type": "code",
   "execution_count": 23,
   "id": "c9d63599",
   "metadata": {},
   "outputs": [
    {
     "name": "stdout",
     "output_type": "stream",
     "text": [
      "[0.         0.11111111 0.22222222 0.33333333 0.44444444 0.55555556\n",
      " 0.66666667 0.77777778 0.88888889 1.        ]\n"
     ]
    }
   ],
   "source": [
    "print(np.linspace(0,1,10))"
   ]
  },
  {
   "cell_type": "markdown",
   "id": "a7cc1f49",
   "metadata": {},
   "source": [
    "### Question 23\n",
    "\n",
    "Create 5 logarithmically spaced values between 1 and 1000.\n"
   ]
  },
  {
   "cell_type": "code",
   "execution_count": 24,
   "id": "330bd1c0",
   "metadata": {},
   "outputs": [
    {
     "name": "stdout",
     "output_type": "stream",
     "text": [
      "[   1.            5.62341325   31.6227766   177.827941   1000.        ]\n"
     ]
    }
   ],
   "source": [
    "print(np.logspace(0,3,5))"
   ]
  },
  {
   "cell_type": "markdown",
   "id": "2440f3b7",
   "metadata": {},
   "source": [
    "### Question 24\n",
    "\n",
    "Create a Pandas DataFrame from a NumPy array with 5 rows and 3 columns of random integers (1-100).\n"
   ]
  },
  {
   "cell_type": "code",
   "execution_count": 25,
   "id": "1d4738a5",
   "metadata": {},
   "outputs": [
    {
     "name": "stdout",
     "output_type": "stream",
     "text": [
      "    0   1   2\n",
      "0  68  56  16\n",
      "1  52  70  28\n",
      "2  33  14  64\n",
      "3  30  98  46\n",
      "4  14  77  30\n"
     ]
    }
   ],
   "source": [
    "import pandas as pd\n",
    "df = pd.DataFrame(np.random.randint(1,101,size=(5,3)))\n",
    "print(df)"
   ]
  },
  {
   "cell_type": "markdown",
   "id": "3fc8333e",
   "metadata": {},
   "source": [
    "### Question 25\n",
    "\n",
    "Write a function to replace all negative values in a specific column with zeros using NumPy.\n"
   ]
  },
  {
   "cell_type": "code",
   "execution_count": 26,
   "id": "5153ce61",
   "metadata": {},
   "outputs": [
    {
     "name": "stdout",
     "output_type": "stream",
     "text": [
      "   A\n",
      "0  0\n",
      "1  2\n"
     ]
    }
   ],
   "source": [
    "def replace_neg(df,col):\n",
    "    df[col] = np.where(df[col]<0,0,df[col])\n",
    "    return df\n",
    "print(replace_neg(pd.DataFrame({'A':[-1,2]}),'A'))"
   ]
  },
  {
   "cell_type": "markdown",
   "id": "ba7d505a",
   "metadata": {},
   "source": [
    "### Question 26\n",
    "\n",
    "Access the 3rd element from the given NumPy array.\n"
   ]
  },
  {
   "cell_type": "code",
   "execution_count": 27,
   "id": "447e03f5",
   "metadata": {},
   "outputs": [
    {
     "name": "stdout",
     "output_type": "stream",
     "text": [
      "3\n"
     ]
    }
   ],
   "source": [
    "arr = np.array([1,2,3,4])\n",
    "print(arr[2])"
   ]
  },
  {
   "cell_type": "markdown",
   "id": "301f384e",
   "metadata": {},
   "source": [
    "### Question 27\n",
    "\n",
    "Retrieve the element at index (1, 2) from a 2D array.\n"
   ]
  },
  {
   "cell_type": "code",
   "execution_count": 28,
   "id": "87e10c82",
   "metadata": {},
   "outputs": [
    {
     "name": "stdout",
     "output_type": "stream",
     "text": [
      "6\n"
     ]
    }
   ],
   "source": [
    "arr = np.array([[1,2,3],[4,5,6]])\n",
    "print(arr[1,2])"
   ]
  },
  {
   "cell_type": "markdown",
   "id": "49323b70",
   "metadata": {},
   "source": [
    "### Question 28\n",
    "\n",
    "Extract elements greater than 5 using boolean indexing.\n"
   ]
  },
  {
   "cell_type": "code",
   "execution_count": 29,
   "id": "a5c26568",
   "metadata": {},
   "outputs": [
    {
     "name": "stdout",
     "output_type": "stream",
     "text": [
      "[6 7]\n"
     ]
    }
   ],
   "source": [
    "arr = np.array([1,6,3,7])\n",
    "print(arr[arr>5])"
   ]
  },
  {
   "cell_type": "markdown",
   "id": "611c84db",
   "metadata": {},
   "source": [
    "### Question 29\n",
    "\n",
    "Slice elements from index 2 to 5 (inclusive) from a NumPy array.\n"
   ]
  },
  {
   "cell_type": "code",
   "execution_count": 30,
   "id": "896c022a",
   "metadata": {},
   "outputs": [
    {
     "name": "stdout",
     "output_type": "stream",
     "text": [
      "[2 3 4 5]\n"
     ]
    }
   ],
   "source": [
    "arr = np.array([0,1,2,3,4,5])\n",
    "print(arr[2:6])"
   ]
  },
  {
   "cell_type": "markdown",
   "id": "49383aab",
   "metadata": {},
   "source": [
    "### Question 30\n",
    "\n",
    "Slice the sub-array [[2, 3], [5, 6]] from a 2D array.\n"
   ]
  },
  {
   "cell_type": "code",
   "execution_count": 31,
   "id": "2ec9cfce",
   "metadata": {},
   "outputs": [
    {
     "name": "stdout",
     "output_type": "stream",
     "text": [
      "[[2 3]\n",
      " [5 6]]\n"
     ]
    }
   ],
   "source": [
    "arr = np.array([[1,2,3],[4,5,6]])\n",
    "print(arr[:,1:3])"
   ]
  },
  {
   "cell_type": "markdown",
   "id": "ccfe42c5",
   "metadata": {},
   "source": [
    "### Question 31\n",
    "\n",
    "Extract elements based on indices from a 2D array.\n"
   ]
  },
  {
   "cell_type": "code",
   "execution_count": 32,
   "id": "32bf4498",
   "metadata": {},
   "outputs": [
    {
     "name": "stdout",
     "output_type": "stream",
     "text": [
      "[2 3]\n"
     ]
    }
   ],
   "source": [
    "arr = np.array([[1,2],[3,4]])\n",
    "print(arr[[0,1],[1,0]])"
   ]
  },
  {
   "cell_type": "markdown",
   "id": "3a80dd81",
   "metadata": {},
   "source": [
    "### Question 32\n",
    "\n",
    "Filter elements greater than a threshold using boolean indexing.\n"
   ]
  },
  {
   "cell_type": "code",
   "execution_count": 33,
   "id": "1085f000",
   "metadata": {},
   "outputs": [
    {
     "name": "stdout",
     "output_type": "stream",
     "text": [
      "[5 8]\n"
     ]
    }
   ],
   "source": [
    "arr = np.array([1,5,8])\n",
    "print(arr[arr>4])"
   ]
  },
  {
   "cell_type": "markdown",
   "id": "60e5979a",
   "metadata": {},
   "source": [
    "### Question 33\n",
    "\n",
    "Extract specific elements from a 3D array using separate index arrays.\n"
   ]
  },
  {
   "cell_type": "code",
   "execution_count": 34,
   "id": "a5232d1f",
   "metadata": {},
   "outputs": [
    {
     "name": "stdout",
     "output_type": "stream",
     "text": [
      "[ 5 15]\n"
     ]
    }
   ],
   "source": [
    "arr = np.arange(27).reshape(3,3,3)\n",
    "print(arr[[0,1],[1,2],[2,0]])"
   ]
  },
  {
   "cell_type": "markdown",
   "id": "ebbb2d07",
   "metadata": {},
   "source": [
    "### Question 34\n",
    "\n",
    "Return elements satisfying two boolean conditions.\n"
   ]
  },
  {
   "cell_type": "code",
   "execution_count": 35,
   "id": "ad4dffff",
   "metadata": {},
   "outputs": [
    {
     "name": "stdout",
     "output_type": "stream",
     "text": [
      "[ 5 10]\n"
     ]
    }
   ],
   "source": [
    "arr = np.array([1,5,10,15])\n",
    "print(arr[(arr>4)&(arr<12)])"
   ]
  },
  {
   "cell_type": "markdown",
   "id": "b8e13ae6",
   "metadata": {},
   "source": [
    "### Question 35\n",
    "\n",
    "Extract elements from a 2D array using separate row and column index arrays.\n"
   ]
  },
  {
   "cell_type": "code",
   "execution_count": 36,
   "id": "7829a143",
   "metadata": {},
   "outputs": [
    {
     "name": "stdout",
     "output_type": "stream",
     "text": [
      "[3 5 7]\n"
     ]
    }
   ],
   "source": [
    "arr = np.array([[1,2,3],[4,5,6],[7,8,9]])\n",
    "print(arr[[0,1,2],[2,1,0]])"
   ]
  },
  {
   "cell_type": "markdown",
   "id": "ba9e0a31",
   "metadata": {},
   "source": [
    "### Question 36\n",
    "\n",
    "Add scalar 5 to every element of an array using broadcasting.\n"
   ]
  },
  {
   "cell_type": "code",
   "execution_count": 37,
   "id": "819319c4",
   "metadata": {},
   "outputs": [
    {
     "name": "stdout",
     "output_type": "stream",
     "text": [
      "[6 7 8]\n"
     ]
    }
   ],
   "source": [
    "arr = np.array([1,2,3])\n",
    "print(arr+5)"
   ]
  },
  {
   "cell_type": "markdown",
   "id": "bb840aed",
   "metadata": {},
   "source": [
    "### Question 37\n",
    "\n",
    "Multiply each row of a (3, 4) array by corresponding elements of a (1, 3) array.\n"
   ]
  },
  {
   "cell_type": "code",
   "execution_count": 38,
   "id": "fa9d8c5f",
   "metadata": {},
   "outputs": [
    {
     "name": "stdout",
     "output_type": "stream",
     "text": [
      "[[1. 1. 1. 1.]\n",
      " [2. 2. 2. 2.]\n",
      " [3. 3. 3. 3.]]\n"
     ]
    }
   ],
   "source": [
    "a = np.ones((3,4))\n",
    "b = np.array([[1],[2],[3]])\n",
    "print(a * b)"
   ]
  },
  {
   "cell_type": "markdown",
   "id": "bd3902c3",
   "metadata": {},
   "source": [
    "### Question 38\n",
    "\n",
    "Add a (1, 4) array to every row of a (4, 3) array using broadcasting.\n"
   ]
  },
  {
   "cell_type": "code",
   "execution_count": 39,
   "id": "b0aa4c58",
   "metadata": {},
   "outputs": [
    {
     "name": "stdout",
     "output_type": "stream",
     "text": [
      "[[2. 2. 2.]\n",
      " [2. 2. 2.]\n",
      " [2. 2. 2.]\n",
      " [2. 2. 2.]]\n"
     ]
    }
   ],
   "source": [
    "a = np.ones((4,3))\n",
    "b = np.ones((1,3))\n",
    "print(a + b)"
   ]
  },
  {
   "cell_type": "markdown",
   "id": "58a844b4",
   "metadata": {},
   "source": [
    "### Question 39\n",
    "\n",
    "Add two arrays of shapes (3, 1) and (1, 3) using broadcasting.\n"
   ]
  },
  {
   "cell_type": "code",
   "execution_count": 40,
   "id": "a2041e65",
   "metadata": {},
   "outputs": [
    {
     "name": "stdout",
     "output_type": "stream",
     "text": [
      "[[2. 2. 2.]\n",
      " [2. 2. 2.]\n",
      " [2. 2. 2.]]\n"
     ]
    }
   ],
   "source": [
    "a = np.ones((3,1))\n",
    "b = np.ones((1,3))\n",
    "print(a + b)"
   ]
  },
  {
   "cell_type": "markdown",
   "id": "101654e2",
   "metadata": {},
   "source": [
    "### Question 40\n",
    "\n",
    "Handle shape incompatibility during multiplication between (2, 3) and (2, 2) arrays.\n"
   ]
  },
  {
   "cell_type": "code",
   "execution_count": 41,
   "id": "b7f94ed0",
   "metadata": {},
   "outputs": [
    {
     "name": "stdout",
     "output_type": "stream",
     "text": [
      "operands could not be broadcast together with shapes (2,3) (2,2) \n"
     ]
    }
   ],
   "source": [
    "a = np.ones((2,3))\n",
    "b = np.ones((2,2))\n",
    "try:\n",
    " print(a*b)\n",
    "except ValueError as e:\n",
    " print(e)"
   ]
  },
  {
   "cell_type": "markdown",
   "id": "01fd1ee0",
   "metadata": {},
   "source": [
    "### Question 41\n",
    "\n",
    "Calculate column-wise mean of a 2D array.\n"
   ]
  },
  {
   "cell_type": "code",
   "execution_count": 42,
   "id": "065beab0",
   "metadata": {},
   "outputs": [
    {
     "name": "stdout",
     "output_type": "stream",
     "text": [
      "[2. 3.]\n"
     ]
    }
   ],
   "source": [
    "arr = np.array([[1,2],[3,4]])\n",
    "print(arr.mean(axis=0))"
   ]
  },
  {
   "cell_type": "markdown",
   "id": "7e47bf39",
   "metadata": {},
   "source": [
    "### Question 42\n",
    "\n",
    "Find maximum value in each row.\n"
   ]
  },
  {
   "cell_type": "code",
   "execution_count": 43,
   "id": "71bc6741",
   "metadata": {},
   "outputs": [
    {
     "name": "stdout",
     "output_type": "stream",
     "text": [
      "[2 4]\n"
     ]
    }
   ],
   "source": [
    "arr = np.array([[1,2],[3,4]])\n",
    "print(arr.max(axis=1))"
   ]
  },
  {
   "cell_type": "markdown",
   "id": "742455d1",
   "metadata": {},
   "source": [
    "### Question 43\n",
    "\n",
    "Find indices of maximum values in each column.\n"
   ]
  },
  {
   "cell_type": "code",
   "execution_count": 44,
   "id": "bfd8b3f6",
   "metadata": {},
   "outputs": [
    {
     "name": "stdout",
     "output_type": "stream",
     "text": [
      "[1 0]\n"
     ]
    }
   ],
   "source": [
    "arr = np.array([[1,4],[3,2]])\n",
    "print(arr.argmax(axis=0))"
   ]
  },
  {
   "cell_type": "markdown",
   "id": "fb643f8f",
   "metadata": {},
   "source": [
    "### Question 44\n",
    "\n",
    "Apply a custom function to compute moving sum along rows.\n"
   ]
  },
  {
   "cell_type": "code",
   "execution_count": 45,
   "id": "65327f6b",
   "metadata": {},
   "outputs": [
    {
     "name": "stdout",
     "output_type": "stream",
     "text": [
      "[[ 1  3  6]\n",
      " [ 4  9 15]]\n"
     ]
    }
   ],
   "source": [
    "arr = np.array([[1,2,3],[4,5,6]])\n",
    "print(np.cumsum(arr,axis=1))"
   ]
  },
  {
   "cell_type": "markdown",
   "id": "c5c397e8",
   "metadata": {},
   "source": [
    "### Question 45\n",
    "\n",
    "Check if all elements in each column are even.\n"
   ]
  },
  {
   "cell_type": "code",
   "execution_count": 46,
   "id": "68f485a6",
   "metadata": {},
   "outputs": [
    {
     "name": "stdout",
     "output_type": "stream",
     "text": [
      "[ True  True]\n"
     ]
    }
   ],
   "source": [
    "arr = np.array([[2,4],[6,8]])\n",
    "print((arr%2==0).all(axis=0))"
   ]
  },
  {
   "cell_type": "markdown",
   "id": "85a66d53",
   "metadata": {},
   "source": [
    "### Question 46\n",
    "\n",
    "Reshape a given array into dimensions m x n.\n"
   ]
  },
  {
   "cell_type": "code",
   "execution_count": 47,
   "id": "0e92fadc",
   "metadata": {},
   "outputs": [
    {
     "name": "stdout",
     "output_type": "stream",
     "text": [
      "[[0 1 2]\n",
      " [3 4 5]]\n"
     ]
    }
   ],
   "source": [
    "arr = np.arange(6)\n",
    "print(arr.reshape(2,3))"
   ]
  },
  {
   "cell_type": "markdown",
   "id": "7f519e01",
   "metadata": {},
   "source": [
    "### Question 47\n",
    "\n",
    "Return a flattened version of a given matrix.\n"
   ]
  },
  {
   "cell_type": "code",
   "execution_count": 48,
   "id": "6579a3aa",
   "metadata": {},
   "outputs": [
    {
     "name": "stdout",
     "output_type": "stream",
     "text": [
      "[1 2 3 4]\n"
     ]
    }
   ],
   "source": [
    "arr = np.array([[1,2],[3,4]])\n",
    "print(arr.flatten())"
   ]
  },
  {
   "cell_type": "markdown",
   "id": "f987dc07",
   "metadata": {},
   "source": [
    "### Question 48\n",
    "\n",
    "Concatenate two arrays along a specified axis.\n"
   ]
  },
  {
   "cell_type": "code",
   "execution_count": 49,
   "id": "de074330",
   "metadata": {},
   "outputs": [
    {
     "name": "stdout",
     "output_type": "stream",
     "text": [
      "[[1 2]\n",
      " [3 4]]\n"
     ]
    }
   ],
   "source": [
    "a = np.array([[1,2]])\n",
    "b = np.array([[3,4]])\n",
    "print(np.concatenate((a,b),axis=0))"
   ]
  },
  {
   "cell_type": "markdown",
   "id": "58eaf5e0",
   "metadata": {},
   "source": [
    "### Question 49\n",
    "\n",
    "Split an array into sub-arrays along a specified axis.\n"
   ]
  },
  {
   "cell_type": "code",
   "execution_count": 53,
   "id": "fc8f2dd5",
   "metadata": {},
   "outputs": [
    {
     "name": "stdout",
     "output_type": "stream",
     "text": [
      "[array([[1, 2],\n",
      "       [5, 6]]), array([[3, 4],\n",
      "       [7, 8]])]\n"
     ]
    }
   ],
   "source": [
    "import numpy as np\n",
    "arr = np.array([[1, 2, 3, 4], [5, 6, 7, 8]])\n",
    "result = np.split(arr, 2, axis=1)\n",
    "print(result)\n"
   ]
  },
  {
   "cell_type": "markdown",
   "id": "3d70e72f",
   "metadata": {},
   "source": [
    "### Question 50\n",
    "\n",
    "Insert and delete elements at specified indices from an array.\n"
   ]
  },
  {
   "cell_type": "code",
   "execution_count": 54,
   "id": "7da7f051",
   "metadata": {},
   "outputs": [
    {
     "name": "stdout",
     "output_type": "stream",
     "text": [
      "[ 1 10  3]\n"
     ]
    }
   ],
   "source": [
    "arr = np.array([1,2,3])\n",
    "arr = np.insert(arr,1,10)\n",
    "arr = np.delete(arr,2)\n",
    "print(arr)"
   ]
  },
  {
   "cell_type": "markdown",
   "id": "dba2eada",
   "metadata": {},
   "source": [
    "### Question 51\n",
    "\n",
    "Perform element-wise addition between two arrays.\n"
   ]
  },
  {
   "cell_type": "code",
   "execution_count": 55,
   "id": "ef3ab42d",
   "metadata": {},
   "outputs": [
    {
     "name": "stdout",
     "output_type": "stream",
     "text": [
      "[4 6]\n"
     ]
    }
   ],
   "source": [
    "a = np.array([1,2])\n",
    "b = np.array([3,4])\n",
    "print(a+b)"
   ]
  },
  {
   "cell_type": "markdown",
   "id": "b6f227cf",
   "metadata": {},
   "source": [
    "### Question 52\n",
    "\n",
    "Perform element-wise subtraction: subtract arr2 from arr1.\n"
   ]
  },
  {
   "cell_type": "code",
   "execution_count": 56,
   "id": "af8459bb",
   "metadata": {},
   "outputs": [
    {
     "name": "stdout",
     "output_type": "stream",
     "text": [
      "[3 5]\n"
     ]
    }
   ],
   "source": [
    "a = np.array([5,6])\n",
    "b = np.array([2,1])\n",
    "print(a-b)"
   ]
  },
  {
   "cell_type": "markdown",
   "id": "25e4fa28",
   "metadata": {},
   "source": [
    "### Question 53\n",
    "\n",
    "Perform element-wise multiplication.\n"
   ]
  },
  {
   "cell_type": "code",
   "execution_count": 57,
   "id": "a69f4ccd",
   "metadata": {},
   "outputs": [
    {
     "name": "stdout",
     "output_type": "stream",
     "text": [
      "[ 8 15]\n"
     ]
    }
   ],
   "source": [
    "a = np.array([2,3])\n",
    "b = np.array([4,5])\n",
    "print(a*b)"
   ]
  },
  {
   "cell_type": "markdown",
   "id": "384d6e58",
   "metadata": {},
   "source": [
    "### Question 54\n",
    "\n",
    "Divide elements of arr1 by arr2 element-wise.\n"
   ]
  },
  {
   "cell_type": "code",
   "execution_count": 58,
   "id": "684f4fb9",
   "metadata": {},
   "outputs": [
    {
     "name": "stdout",
     "output_type": "stream",
     "text": [
      "[4. 3.]\n"
     ]
    }
   ],
   "source": [
    "a = np.array([8,9])\n",
    "b = np.array([2,3])\n",
    "print(a/b)"
   ]
  },
  {
   "cell_type": "markdown",
   "id": "dee1dff4",
   "metadata": {},
   "source": [
    "### Question 55\n",
    "\n",
    "Perform element-wise exponentiation: arr1 ** arr2.\n"
   ]
  },
  {
   "cell_type": "code",
   "execution_count": 59,
   "id": "4238488b",
   "metadata": {},
   "outputs": [
    {
     "name": "stdout",
     "output_type": "stream",
     "text": [
      "[8 9]\n"
     ]
    }
   ],
   "source": [
    "a = np.array([2,3])\n",
    "b = np.array([3,2])\n",
    "print(a**b)"
   ]
  },
  {
   "cell_type": "markdown",
   "id": "2933694b",
   "metadata": {},
   "source": [
    "### Question 56\n",
    "\n",
    "Count occurrences of a substring in a string array.\n"
   ]
  },
  {
   "cell_type": "code",
   "execution_count": 60,
   "id": "381d421f",
   "metadata": {},
   "outputs": [
    {
     "name": "stdout",
     "output_type": "stream",
     "text": [
      "[1 2]\n"
     ]
    }
   ],
   "source": [
    "arr = np.array(['abc','ababc'])\n",
    "print(np.char.count(arr,'ab'))"
   ]
  },
  {
   "cell_type": "markdown",
   "id": "7a474da3",
   "metadata": {},
   "source": [
    "### Question 57\n",
    "\n",
    "Extract uppercase characters from a string array.\n"
   ]
  },
  {
   "cell_type": "code",
   "execution_count": 61,
   "id": "e55e0cc6",
   "metadata": {},
   "outputs": [
    {
     "name": "stdout",
     "output_type": "stream",
     "text": [
      "['HELLO' 'WORLD']\n"
     ]
    }
   ],
   "source": [
    "arr = np.array(['Hello','WORLD'])\n",
    "print(np.char.upper(arr))"
   ]
  },
  {
   "cell_type": "markdown",
   "id": "d3383cad",
   "metadata": {},
   "source": [
    "### Question 58\n",
    "\n",
    "Replace substring occurrences with another string in a string array.\n"
   ]
  },
  {
   "cell_type": "code",
   "execution_count": 62,
   "id": "7bbb5805",
   "metadata": {},
   "outputs": [
    {
     "name": "stdout",
     "output_type": "stream",
     "text": [
      "['xyc' 'xyxyc']\n"
     ]
    }
   ],
   "source": [
    "arr = np.array(['abc','ababc'])\n",
    "print(np.char.replace(arr,'ab','xy'))"
   ]
  },
  {
   "cell_type": "markdown",
   "id": "39faa234",
   "metadata": {},
   "source": [
    "### Question 59\n",
    "\n",
    "Concatenate strings in a NumPy array element-wise.\n"
   ]
  },
  {
   "cell_type": "code",
   "execution_count": 63,
   "id": "5d634078",
   "metadata": {},
   "outputs": [
    {
     "name": "stdout",
     "output_type": "stream",
     "text": [
      "['ac' 'bd']\n"
     ]
    }
   ],
   "source": [
    "a = np.array(['a','b'])\n",
    "b = np.array(['c','d'])\n",
    "print(np.char.add(a,b))"
   ]
  },
  {
   "cell_type": "markdown",
   "id": "69273039",
   "metadata": {},
   "source": [
    "### Question 60\n",
    "\n",
    "Find the length of the longest string in a string array.\n"
   ]
  },
  {
   "cell_type": "code",
   "execution_count": 64,
   "id": "96337a22",
   "metadata": {},
   "outputs": [
    {
     "name": "stdout",
     "output_type": "stream",
     "text": [
      "6\n"
     ]
    }
   ],
   "source": [
    "arr = np.array(['abc','abcdef'])\n",
    "print(np.vectorize(len)(arr).max())"
   ]
  },
  {
   "cell_type": "markdown",
   "id": "e5c2a3e2",
   "metadata": {},
   "source": [
    "### Question 61\n",
    "\n",
    "Generate 100 random integers (1–1000) and compute mean, median, variance, and std deviation.\n"
   ]
  },
  {
   "cell_type": "code",
   "execution_count": 65,
   "id": "027a6ec6",
   "metadata": {},
   "outputs": [
    {
     "name": "stdout",
     "output_type": "stream",
     "text": [
      "524.47 537.0 78194.7691 279.633276095675\n"
     ]
    }
   ],
   "source": [
    "arr = np.random.randint(1,1001,100)\n",
    "print(arr.mean(), np.median(arr), arr.var(), arr.std())"
   ]
  },
  {
   "cell_type": "markdown",
   "id": "88d78324",
   "metadata": {},
   "source": [
    "### Question 62\n",
    "\n",
    "Generate 50 random numbers (1–100) and compute the 25th and 75th percentiles.\n"
   ]
  },
  {
   "cell_type": "code",
   "execution_count": 66,
   "id": "648b345b",
   "metadata": {},
   "outputs": [
    {
     "name": "stdout",
     "output_type": "stream",
     "text": [
      "26.5 82.0\n"
     ]
    }
   ],
   "source": [
    "arr = np.random.randint(1,101,50)\n",
    "print(np.percentile(arr,25), np.percentile(arr,75))"
   ]
  },
  {
   "cell_type": "markdown",
   "id": "601aea05",
   "metadata": {},
   "source": [
    "### Question 63\n",
    "\n",
    "Compute correlation coefficient between two arrays using np.corrcoef.\n"
   ]
  },
  {
   "cell_type": "code",
   "execution_count": 67,
   "id": "83759973",
   "metadata": {},
   "outputs": [
    {
     "name": "stdout",
     "output_type": "stream",
     "text": [
      "[[1.         0.11739139]\n",
      " [0.11739139 1.        ]]\n"
     ]
    }
   ],
   "source": [
    "a = np.random.rand(10)\n",
    "b = np.random.rand(10)\n",
    "print(np.corrcoef(a,b))"
   ]
  },
  {
   "cell_type": "markdown",
   "id": "f817538a",
   "metadata": {},
   "source": [
    "### Question 64\n",
    "\n",
    "Perform matrix multiplication using np.dot.\n"
   ]
  },
  {
   "cell_type": "code",
   "execution_count": 68,
   "id": "b4005b2a",
   "metadata": {},
   "outputs": [
    {
     "name": "stdout",
     "output_type": "stream",
     "text": [
      "[[19 22]\n",
      " [43 50]]\n"
     ]
    }
   ],
   "source": [
    "a = np.array([[1,2],[3,4]])\n",
    "b = np.array([[5,6],[7,8]])\n",
    "print(np.dot(a,b))"
   ]
  },
  {
   "cell_type": "markdown",
   "id": "889c6e3b",
   "metadata": {},
   "source": [
    "### Question 65\n",
    "\n",
    "Compute the 10th, 50th, and 90th percentiles and quartiles for an array of 50 integers.\n"
   ]
  },
  {
   "cell_type": "code",
   "execution_count": 69,
   "id": "b307961f",
   "metadata": {},
   "outputs": [
    {
     "name": "stdout",
     "output_type": "stream",
     "text": [
      "[25.8 48.  88. ]\n"
     ]
    }
   ],
   "source": [
    "arr = np.random.randint(1,101,50)\n",
    "print(np.percentile(arr,[10,50,90]))"
   ]
  },
  {
   "cell_type": "markdown",
   "id": "364163e3",
   "metadata": {},
   "source": [
    "### Question 66\n",
    "\n",
    "Find index of a specific element in an array.\n"
   ]
  },
  {
   "cell_type": "code",
   "execution_count": 70,
   "id": "6b2ea1b2",
   "metadata": {},
   "outputs": [
    {
     "name": "stdout",
     "output_type": "stream",
     "text": [
      "(array([1], dtype=int64),)\n"
     ]
    }
   ],
   "source": [
    "arr = np.array([1,2,3])\n",
    "print(np.where(arr==2))"
   ]
  },
  {
   "cell_type": "markdown",
   "id": "b03cfd4a",
   "metadata": {},
   "source": [
    "### Question 67\n",
    "\n",
    "Sort a random array in ascending order.\n"
   ]
  },
  {
   "cell_type": "code",
   "execution_count": 71,
   "id": "6c5cf647",
   "metadata": {},
   "outputs": [
    {
     "name": "stdout",
     "output_type": "stream",
     "text": [
      "[3 5 7 8 9]\n"
     ]
    }
   ],
   "source": [
    "arr = np.random.randint(1,10,5)\n",
    "print(np.sort(arr))"
   ]
  },
  {
   "cell_type": "markdown",
   "id": "5fdea4d0",
   "metadata": {},
   "source": [
    "### Question 68\n",
    "\n",
    "Filter elements greater than 20.\n"
   ]
  },
  {
   "cell_type": "code",
   "execution_count": 72,
   "id": "60171416",
   "metadata": {},
   "outputs": [
    {
     "name": "stdout",
     "output_type": "stream",
     "text": [
      "[30]\n"
     ]
    }
   ],
   "source": [
    "arr = np.array([10,30,20])\n",
    "print(arr[arr>20])"
   ]
  },
  {
   "cell_type": "markdown",
   "id": "09a01b27",
   "metadata": {},
   "source": [
    "### Question 69\n",
    "\n",
    "Filter elements divisible by 3.\n"
   ]
  },
  {
   "cell_type": "code",
   "execution_count": 73,
   "id": "88134703",
   "metadata": {},
   "outputs": [
    {
     "name": "stdout",
     "output_type": "stream",
     "text": [
      "[3 9]\n"
     ]
    }
   ],
   "source": [
    "arr = np.array([3,4,9,10])\n",
    "print(arr[arr%3==0])"
   ]
  },
  {
   "cell_type": "markdown",
   "id": "099eb282",
   "metadata": {},
   "source": [
    "### Question 70\n",
    "\n",
    "Filter elements between 20 and 40 (inclusive).\n"
   ]
  },
  {
   "cell_type": "code",
   "execution_count": 74,
   "id": "5c04742f",
   "metadata": {},
   "outputs": [
    {
     "name": "stdout",
     "output_type": "stream",
     "text": [
      "[25 30]\n"
     ]
    }
   ],
   "source": [
    "arr = np.array([10,25,30,45])\n",
    "print(arr[(arr>=20)&(arr<=40)])"
   ]
  },
  {
   "cell_type": "markdown",
   "id": "0d265359",
   "metadata": {},
   "source": [
    "### Question 71\n",
    "\n",
    "Check byte order of a NumPy array using dtype.byteorder.\n"
   ]
  },
  {
   "cell_type": "code",
   "execution_count": 75,
   "id": "49a257d5",
   "metadata": {},
   "outputs": [
    {
     "name": "stdout",
     "output_type": "stream",
     "text": [
      "=\n"
     ]
    }
   ],
   "source": [
    "arr = np.array([1])\n",
    "print(arr.dtype.byteorder)"
   ]
  },
  {
   "cell_type": "markdown",
   "id": "357b0f40",
   "metadata": {},
   "source": [
    "### Question 72\n",
    "\n",
    "Perform in-place byte swapping using byteswap().\n"
   ]
  },
  {
   "cell_type": "code",
   "execution_count": 76,
   "id": "1c3885ea",
   "metadata": {},
   "outputs": [
    {
     "name": "stdout",
     "output_type": "stream",
     "text": [
      "[16777216]\n"
     ]
    }
   ],
   "source": [
    "arr = np.array([1],dtype='>i4')\n",
    "arr.byteswap(True)\n",
    "print(arr)"
   ]
  }
 ],
 "metadata": {
  "kernelspec": {
   "display_name": "Python [conda env:base] *",
   "language": "python",
   "name": "conda-base-py"
  },
  "language_info": {
   "codemirror_mode": {
    "name": "ipython",
    "version": 3
   },
   "file_extension": ".py",
   "mimetype": "text/x-python",
   "name": "python",
   "nbconvert_exporter": "python",
   "pygments_lexer": "ipython3",
   "version": "3.12.7"
  }
 },
 "nbformat": 4,
 "nbformat_minor": 5
}
