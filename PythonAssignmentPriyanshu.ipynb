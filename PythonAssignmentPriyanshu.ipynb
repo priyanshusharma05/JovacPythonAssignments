{
 "cells": [
  {
   "cell_type": "markdown",
   "id": "eb15b584",
   "metadata": {},
   "source": [
    "## Section A: Data Types & Control Flow (Q1–Q15)"
   ]
  },
  {
   "cell_type": "markdown",
   "id": "ad7438eb",
   "metadata": {},
   "source": [
    "### Q1: Write a Python program to find the second largest number in a list without using the sort() method."
   ]
  },
  {
   "cell_type": "code",
   "execution_count": null,
   "id": "8499ba33",
   "metadata": {},
   "outputs": [],
   "source": [
    "def second_largest(nums):\n",
    "    first = second = float('-inf')\n",
    "    for num in nums:\n",
    "        if num > first:\n",
    "            second = first\n",
    "            first = num\n",
    "        elif first > num > second:\n",
    "            second = num\n",
    "    return second\n",
    "\n",
    "# Example\n",
    "print(second_largest([5, 3, 9, 1, 6]))"
   ]
  },
  {
   "cell_type": "markdown",
   "id": "bf4011ca",
   "metadata": {},
   "source": [
    "### Q2: Remove duplicates from a list without using set() and return it in sorted order."
   ]
  },
  {
   "cell_type": "code",
   "execution_count": null,
   "id": "da0869d5",
   "metadata": {},
   "outputs": [],
   "source": [
    "def remove_duplicates(lst):\n",
    "    result = []\n",
    "    for item in lst:\n",
    "        if item not in result:\n",
    "            result.append(item)\n",
    "    return sorted(result)\n",
    "\n",
    "# Example\n",
    "print(remove_duplicates([4, 2, 4, 3, 2, 1]))"
   ]
  },
  {
   "cell_type": "markdown",
   "id": "7be77969",
   "metadata": {},
   "source": [
    "### Q3: Find the sum and average of a list of numbers."
   ]
  },
  {
   "cell_type": "code",
   "execution_count": null,
   "id": "714a7dea",
   "metadata": {},
   "outputs": [],
   "source": [
    "def sum_and_average(lst):\n",
    "    total = sum(lst)\n",
    "    average = total / len(lst)\n",
    "    return total, average\n",
    "\n",
    "# Example\n",
    "print(sum_and_average([10, 20, 30]))"
   ]
  },
  {
   "cell_type": "markdown",
   "id": "af64f00c",
   "metadata": {},
   "source": [
    "### Q4: Create a program to check if a number is prime."
   ]
  },
  {
   "cell_type": "code",
   "execution_count": null,
   "id": "321dad33",
   "metadata": {},
   "outputs": [],
   "source": [
    "def is_prime(n):\n",
    "    if n <= 1:\n",
    "        return False\n",
    "    for i in range(2, int(n**0.5)+1):\n",
    "        if n % i == 0:\n",
    "            return False\n",
    "    return True\n",
    "\n",
    "# Example\n",
    "print(is_prime(17))"
   ]
  },
  {
   "cell_type": "markdown",
   "id": "f73baf81",
   "metadata": {},
   "source": [
    "### Q5: Count the number of vowels, consonants, digits, and special characters in a given string."
   ]
  },
  {
   "cell_type": "code",
   "execution_count": null,
   "id": "3ed967e3",
   "metadata": {},
   "outputs": [],
   "source": [
    "def count_chars(s):\n",
    "    vowels = 'aeiouAEIOU'\n",
    "    v = c = d = s_char = 0\n",
    "    for ch in s:\n",
    "        if ch.isdigit():\n",
    "            d += 1\n",
    "        elif ch.isalpha():\n",
    "            if ch in vowels:\n",
    "                v += 1\n",
    "            else:\n",
    "                c += 1\n",
    "        else:\n",
    "            s_char += 1\n",
    "    return v, c, d, s_char\n",
    "\n",
    "# Example\n",
    "print(count_chars(\"Hello World! 123\"))"
   ]
  },
  {
   "cell_type": "markdown",
   "id": "82a68504",
   "metadata": {},
   "source": [
    "### Q6: Print all even numbers between 1 and 100 using a for loop."
   ]
  },
  {
   "cell_type": "code",
   "execution_count": null,
   "id": "7ec7f2ad",
   "metadata": {},
   "outputs": [],
   "source": [
    "for i in range(2, 101, 2):\n",
    "    print(i, end=' ')"
   ]
  },
  {
   "cell_type": "markdown",
   "id": "21d12ed4",
   "metadata": {},
   "source": [
    "### Q7: Write a program to print the multiplication table of a number entered by the user."
   ]
  },
  {
   "cell_type": "code",
   "execution_count": null,
   "id": "b792467d",
   "metadata": {},
   "outputs": [],
   "source": [
    "num = int(input(\"Enter a number: \"))\n",
    "for i in range(1, 11):\n",
    "    print(f\"{num} x {i} = {num * i}\")"
   ]
  },
  {
   "cell_type": "markdown",
   "id": "a919bb3f",
   "metadata": {},
   "source": [
    "### Q8: Create a list of numbers from 1 to 100 that are divisible by both 3 and 5."
   ]
  },
  {
   "cell_type": "code",
   "execution_count": null,
   "id": "b7730513",
   "metadata": {},
   "outputs": [],
   "source": [
    "result = [i for i in range(1, 101) if i % 3 == 0 and i % 5 == 0]\n",
    "print(result)"
   ]
  },
  {
   "cell_type": "markdown",
   "id": "03f2449f",
   "metadata": {},
   "source": [
    "### Q9: Take a number input and print its reverse."
   ]
  },
  {
   "cell_type": "code",
   "execution_count": null,
   "id": "7b2d028c",
   "metadata": {},
   "outputs": [],
   "source": [
    "num = int(input(\"Enter a number: \"))\n",
    "reverse = int(str(num)[::-1])\n",
    "print(reverse)"
   ]
  },
  {
   "cell_type": "markdown",
   "id": "088e0a57",
   "metadata": {},
   "source": [
    "### Q10: Count the frequency of each character in a string and store it in a dictionary."
   ]
  },
  {
   "cell_type": "code",
   "execution_count": null,
   "id": "46164636",
   "metadata": {},
   "outputs": [],
   "source": [
    "def char_frequency(s):\n",
    "    freq = {}\n",
    "    for ch in s:\n",
    "        freq[ch] = freq.get(ch, 0) + 1\n",
    "    return freq\n",
    "\n",
    "# Example\n",
    "print(char_frequency(\"hello world\"))"
   ]
  },
  {
   "cell_type": "markdown",
   "id": "278ba837",
   "metadata": {},
   "source": [
    "### Q11: Write a Python program to generate the first n prime numbers."
   ]
  },
  {
   "cell_type": "code",
   "execution_count": null,
   "id": "38152fee",
   "metadata": {},
   "outputs": [],
   "source": [
    "def generate_primes(n):\n",
    "    primes = []\n",
    "    num = 2\n",
    "    while len(primes) < n:\n",
    "        if all(num % p != 0 for p in primes):\n",
    "            primes.append(num)\n",
    "        num += 1\n",
    "    return primes\n",
    "\n",
    "# Example\n",
    "print(generate_primes(10))"
   ]
  },
  {
   "cell_type": "markdown",
   "id": "5a48b24f",
   "metadata": {},
   "source": [
    "### Q12: Check whether a number is a palindrome or not."
   ]
  },
  {
   "cell_type": "code",
   "execution_count": null,
   "id": "5a3defc8",
   "metadata": {},
   "outputs": [],
   "source": [
    "def is_palindrome(num):\n",
    "    return str(num) == str(num)[::-1]\n",
    "\n",
    "# Example\n",
    "print(is_palindrome(121))"
   ]
  },
  {
   "cell_type": "markdown",
   "id": "7a31bf68",
   "metadata": {},
   "source": [
    "### Q13: Count how many times a specific element appears in a list."
   ]
  },
  {
   "cell_type": "code",
   "execution_count": null,
   "id": "7223e4ee",
   "metadata": {},
   "outputs": [],
   "source": [
    "def count_element(lst, el):\n",
    "    return lst.count(el)\n",
    "\n",
    "# Example\n",
    "print(count_element([1, 2, 2, 3, 2, 4], 2))"
   ]
  },
  {
   "cell_type": "markdown",
   "id": "4d6c41ef",
   "metadata": {},
   "source": [
    "### Q14: Create a list of squares of even numbers between 1 and 50."
   ]
  },
  {
   "cell_type": "code",
   "execution_count": null,
   "id": "50b36ab7",
   "metadata": {},
   "outputs": [],
   "source": [
    "squares = [i**2 for i in range(2, 51, 2)]\n",
    "print(squares)"
   ]
  },
  {
   "cell_type": "markdown",
   "id": "4800e132",
   "metadata": {},
   "source": [
    "### Q15: Accept a list and return a new list with only unique elements (preserve order)."
   ]
  },
  {
   "cell_type": "code",
   "execution_count": null,
   "id": "f04877b6",
   "metadata": {},
   "outputs": [],
   "source": [
    "def unique_list(lst):\n",
    "    seen = set()\n",
    "    result = []\n",
    "    for item in lst:\n",
    "        if item not in seen:\n",
    "            seen.add(item)\n",
    "            result.append(item)\n",
    "    return result\n",
    "\n",
    "# Example\n",
    "print(unique_list([1, 2, 2, 3, 1, 4]))"
   ]
  },
  {
   "cell_type": "markdown",
   "id": "2440b31e",
   "metadata": {},
   "source": [
    "## Section B: Functions (Q16–Q30)"
   ]
  },
  {
   "cell_type": "markdown",
   "id": "e35815f4",
   "metadata": {},
   "source": [
    "### Q16: Write a function to check if a number is even or odd."
   ]
  },
  {
   "cell_type": "code",
   "execution_count": null,
   "id": "e81315b4",
   "metadata": {},
   "outputs": [],
   "source": [
    "def is_even_or_odd(n):\n",
    "    return \"Even\" if n % 2 == 0 else \"Odd\"\n",
    "\n",
    "# Example\n",
    "print(is_even_or_odd(7))"
   ]
  },
  {
   "cell_type": "markdown",
   "id": "31d3f64f",
   "metadata": {},
   "source": [
    "### Q17: Create a function that takes a list of numbers and returns their cumulative sum."
   ]
  },
  {
   "cell_type": "code",
   "execution_count": null,
   "id": "2e8c57fe",
   "metadata": {},
   "outputs": [],
   "source": [
    "def cumulative_sum(lst):\n",
    "    total = 0\n",
    "    result = []\n",
    "    for num in lst:\n",
    "        total += num\n",
    "        result.append(total)\n",
    "    return result\n",
    "\n",
    "# Example\n",
    "print(cumulative_sum([1, 2, 3, 4]))"
   ]
  },
  {
   "cell_type": "markdown",
   "id": "07926ed3",
   "metadata": {},
   "source": [
    "### Q18: Write a recursive function to find the factorial of a number."
   ]
  },
  {
   "cell_type": "code",
   "execution_count": null,
   "id": "efdbb261",
   "metadata": {},
   "outputs": [],
   "source": [
    "def factorial(n):\n",
    "    if n == 0:\n",
    "        return 1\n",
    "    return n * factorial(n-1)\n",
    "\n",
    "# Example\n",
    "print(factorial(5))"
   ]
  },
  {
   "cell_type": "markdown",
   "id": "6420c868",
   "metadata": {},
   "source": [
    "### Q19: Write a function to print the Fibonacci series up to n terms."
   ]
  },
  {
   "cell_type": "code",
   "execution_count": null,
   "id": "be07ccee",
   "metadata": {},
   "outputs": [],
   "source": [
    "def fibonacci(n):\n",
    "    a, b = 0, 1\n",
    "    series = []\n",
    "    for _ in range(n):\n",
    "        series.append(a)\n",
    "        a, b = b, a + b\n",
    "    return series\n",
    "\n",
    "# Example\n",
    "print(fibonacci(10))"
   ]
  },
  {
   "cell_type": "markdown",
   "id": "01a5d001",
   "metadata": {},
   "source": [
    "### Q20: Define a function that checks if a given string is a palindrome."
   ]
  },
  {
   "cell_type": "code",
   "execution_count": null,
   "id": "f0659e92",
   "metadata": {},
   "outputs": [],
   "source": [
    "def is_string_palindrome(s):\n",
    "    return s == s[::-1]\n",
    "\n",
    "# Example\n",
    "print(is_string_palindrome(\"madam\"))"
   ]
  },
  {
   "cell_type": "markdown",
   "id": "2e9f9a56",
   "metadata": {},
   "source": [
    "### Q21: Create a function that returns the maximum and minimum elements from a list."
   ]
  },
  {
   "cell_type": "code",
   "execution_count": null,
   "id": "fc4e1c1d",
   "metadata": {},
   "outputs": [],
   "source": [
    "def max_min(lst):\n",
    "    return max(lst), min(lst)\n",
    "\n",
    "# Example\n",
    "print(max_min([4, 8, 1, 6]))"
   ]
  },
  {
   "cell_type": "markdown",
   "id": "ddfcfa9b",
   "metadata": {},
   "source": [
    "### Q22: Write a function to check whether a string is a pangram."
   ]
  },
  {
   "cell_type": "code",
   "execution_count": null,
   "id": "c8c6950e",
   "metadata": {},
   "outputs": [],
   "source": [
    "import string\n",
    "def is_pangram(s):\n",
    "    return set(string.ascii_lowercase).issubset(s.lower())\n",
    "\n",
    "# Example\n",
    "print(is_pangram(\"The quick brown fox jumps over the lazy dog\"))"
   ]
  },
  {
   "cell_type": "markdown",
   "id": "4e499905",
   "metadata": {},
   "source": [
    "### Q23: Create a function that finds and returns all prime numbers in a given range."
   ]
  },
  {
   "cell_type": "code",
   "execution_count": null,
   "id": "506822bb",
   "metadata": {},
   "outputs": [],
   "source": [
    "def primes_in_range(start, end):\n",
    "    def is_prime(n):\n",
    "        if n <= 1:\n",
    "            return False\n",
    "        for i in range(2, int(n**0.5)+1):\n",
    "            if n % i == 0:\n",
    "                return False\n",
    "        return True\n",
    "    return [n for n in range(start, end+1) if is_prime(n)]\n",
    "\n",
    "# Example\n",
    "print(primes_in_range(10, 50))"
   ]
  },
  {
   "cell_type": "markdown",
   "id": "bdd3b164",
   "metadata": {},
   "source": [
    "### Q24: Write a function to return the number of uppercase and lowercase letters in a string."
   ]
  },
  {
   "cell_type": "code",
   "execution_count": null,
   "id": "41decd7c",
   "metadata": {},
   "outputs": [],
   "source": [
    "def count_case(s):\n",
    "    upper = sum(1 for c in s if c.isupper())\n",
    "    lower = sum(1 for c in s if c.islower())\n",
    "    return upper, lower\n",
    "\n",
    "# Example\n",
    "print(count_case(\"Hello World\"))"
   ]
  },
  {
   "cell_type": "markdown",
   "id": "3dbcc56e",
   "metadata": {},
   "source": [
    "### Q25: Write a function to compute the sum of digits of a number."
   ]
  },
  {
   "cell_type": "code",
   "execution_count": null,
   "id": "9142b9fc",
   "metadata": {},
   "outputs": [],
   "source": [
    "def sum_of_digits(n):\n",
    "    return sum(int(d) for d in str(n))\n",
    "\n",
    "# Example\n",
    "print(sum_of_digits(1234))"
   ]
  },
  {
   "cell_type": "markdown",
   "id": "9075ddd8",
   "metadata": {},
   "source": [
    "### Q26: Write a function to count words in a sentence."
   ]
  },
  {
   "cell_type": "code",
   "execution_count": null,
   "id": "1655687d",
   "metadata": {},
   "outputs": [],
   "source": [
    "def word_count(sentence):\n",
    "    return len(sentence.split())\n",
    "\n",
    "# Example\n",
    "print(word_count(\"This is a test sentence.\"))"
   ]
  },
  {
   "cell_type": "markdown",
   "id": "6f44750d",
   "metadata": {},
   "source": [
    "### Q27: Create a function to remove all punctuation from a string."
   ]
  },
  {
   "cell_type": "code",
   "execution_count": null,
   "id": "4be67de5",
   "metadata": {},
   "outputs": [],
   "source": [
    "import string\n",
    "def remove_punctuation(s):\n",
    "    return s.translate(str.maketrans('', '', string.punctuation))\n",
    "\n",
    "# Example\n",
    "print(remove_punctuation(\"Hello, world! It's Python.\"))"
   ]
  },
  {
   "cell_type": "markdown",
   "id": "f9893b61",
   "metadata": {},
   "source": [
    "### Q28: Create a function that finds the GCD (greatest common divisor) of two numbers."
   ]
  },
  {
   "cell_type": "code",
   "execution_count": null,
   "id": "67865aa7",
   "metadata": {},
   "outputs": [],
   "source": [
    "def gcd(a, b):\n",
    "    while b:\n",
    "        a, b = b, a % b\n",
    "    return a\n",
    "\n",
    "# Example\n",
    "print(gcd(48, 18))"
   ]
  },
  {
   "cell_type": "markdown",
   "id": "ff481893",
   "metadata": {},
   "source": [
    "### Q29: Write a function that takes a list and returns only those elements that appear more than once."
   ]
  },
  {
   "cell_type": "code",
   "execution_count": null,
   "id": "118ea820",
   "metadata": {},
   "outputs": [],
   "source": [
    "def find_duplicates(lst):\n",
    "    return [item for item in set(lst) if lst.count(item) > 1]\n",
    "\n",
    "# Example\n",
    "print(find_duplicates([1, 2, 2, 3, 4, 4]))"
   ]
  },
  {
   "cell_type": "markdown",
   "id": "2808fc10",
   "metadata": {},
   "source": [
    "### Q30: Create a function to return the largest of three numbers."
   ]
  },
  {
   "cell_type": "code",
   "execution_count": null,
   "id": "16f7b57b",
   "metadata": {},
   "outputs": [],
   "source": [
    "def largest_of_three(a, b, c):\n",
    "    return max(a, b, c)\n",
    "\n",
    "# Example\n",
    "print(largest_of_three(3, 7, 5))"
   ]
  },
  {
   "cell_type": "markdown",
   "id": "12a31255",
   "metadata": {},
   "source": [
    "## Section C: String, List, Dictionary & Tuple Operations (Q31–Q40)"
   ]
  },
  {
   "cell_type": "markdown",
   "id": "ea30409c",
   "metadata": {},
   "source": [
    "### Q31: Write a program to sort words in a sentence alphabetically."
   ]
  },
  {
   "cell_type": "code",
   "execution_count": null,
   "id": "ec7167a7",
   "metadata": {},
   "outputs": [],
   "source": [
    "sentence = \"Python is a powerful language\"\n",
    "words = sentence.split()\n",
    "words.sort()\n",
    "print(\" \".join(words))"
   ]
  },
  {
   "cell_type": "markdown",
   "id": "e4e77610",
   "metadata": {},
   "source": [
    "### Q32: Concatenate two dictionaries and print the result."
   ]
  },
  {
   "cell_type": "code",
   "execution_count": null,
   "id": "d76ec22e",
   "metadata": {},
   "outputs": [],
   "source": [
    "dict1 = {'a': 1, 'b': 2}\n",
    "dict2 = {'c': 3, 'd': 4}\n",
    "dict1.update(dict2)\n",
    "print(dict1)"
   ]
  },
  {
   "cell_type": "markdown",
   "id": "9e925621",
   "metadata": {},
   "source": [
    "### Q33: Count how many vowels are present in each word of a sentence."
   ]
  },
  {
   "cell_type": "code",
   "execution_count": null,
   "id": "2066bee0",
   "metadata": {},
   "outputs": [],
   "source": [
    "def vowel_count_each_word(sentence):\n",
    "    vowels = 'aeiouAEIOU'\n",
    "    return {word: sum(1 for ch in word if ch in vowels) for word in sentence.split()}\n",
    "\n",
    "# Example\n",
    "print(vowel_count_each_word(\"This is a test sentence\"))"
   ]
  },
  {
   "cell_type": "markdown",
   "id": "1e214e77",
   "metadata": {},
   "source": [
    "### Q34: Accept a tuple and convert it into a list."
   ]
  },
  {
   "cell_type": "code",
   "execution_count": null,
   "id": "ef2cf5e5",
   "metadata": {},
   "outputs": [],
   "source": [
    "tup = (1, 2, 3, 4)\n",
    "lst = list(tup)\n",
    "print(lst)"
   ]
  },
  {
   "cell_type": "markdown",
   "id": "194ac1c3",
   "metadata": {},
   "source": [
    "### Q35: Remove all whitespace from a given string using a function."
   ]
  },
  {
   "cell_type": "code",
   "execution_count": null,
   "id": "25dc9efb",
   "metadata": {},
   "outputs": [],
   "source": [
    "def remove_whitespace(s):\n",
    "    return s.replace(\" \", \"\")\n",
    "\n",
    "# Example\n",
    "print(remove_whitespace(\"Python is fun\"))"
   ]
  },
  {
   "cell_type": "markdown",
   "id": "15f0b922",
   "metadata": {},
   "source": [
    "### Q36: Merge two lists into a dictionary using one as keys and the other as values."
   ]
  },
  {
   "cell_type": "code",
   "execution_count": null,
   "id": "6c5b3aea",
   "metadata": {},
   "outputs": [],
   "source": [
    "keys = ['a', 'b', 'c']\n",
    "values = [1, 2, 3]\n",
    "merged_dict = dict(zip(keys, values))\n",
    "print(merged_dict)"
   ]
  },
  {
   "cell_type": "markdown",
   "id": "1d4136a8",
   "metadata": {},
   "source": [
    "### Q37: Write a program to get the key with the maximum value in a dictionary."
   ]
  },
  {
   "cell_type": "code",
   "execution_count": null,
   "id": "662e75c8",
   "metadata": {},
   "outputs": [],
   "source": [
    "data = {'a': 5, 'b': 8, 'c': 2}\n",
    "max_key = max(data, key=data.get)\n",
    "print(max_key)"
   ]
  },
  {
   "cell_type": "markdown",
   "id": "671c1e00",
   "metadata": {},
   "source": [
    "### Q38: Accept a string and print a dictionary with word frequencies."
   ]
  },
  {
   "cell_type": "code",
   "execution_count": null,
   "id": "7af66cc5",
   "metadata": {},
   "outputs": [],
   "source": [
    "def word_frequencies(s):\n",
    "    words = s.split()\n",
    "    freq = {}\n",
    "    for word in words:\n",
    "        freq[word] = freq.get(word, 0) + 1\n",
    "    return freq\n",
    "\n",
    "# Example\n",
    "print(word_frequencies(\"this is a test this is\"))"
   ]
  },
  {
   "cell_type": "markdown",
   "id": "7a21e486",
   "metadata": {},
   "source": [
    "### Q39: Write a program to check if a key exists in a dictionary."
   ]
  },
  {
   "cell_type": "code",
   "execution_count": null,
   "id": "8f09c5c6",
   "metadata": {},
   "outputs": [],
   "source": [
    "data = {'a': 1, 'b': 2}\n",
    "key = 'a'\n",
    "print(key in data)"
   ]
  },
  {
   "cell_type": "markdown",
   "id": "5e52fdd7",
   "metadata": {},
   "source": [
    "### Q40: Write a program to replace all the vowels in a string with '*'."
   ]
  },
  {
   "cell_type": "code",
   "execution_count": null,
   "id": "6840084f",
   "metadata": {},
   "outputs": [],
   "source": [
    "def replace_vowels(s):\n",
    "    vowels = 'aeiouAEIOU'\n",
    "    return ''.join(['*' if ch in vowels else ch for ch in s])\n",
    "\n",
    "# Example\n",
    "print(replace_vowels(\"Replace all vowels\"))"
   ]
  },
  {
   "cell_type": "markdown",
   "id": "dad4ff26",
   "metadata": {},
   "source": [
    "## Section D: File Handling (Q41–Q45)"
   ]
  },
  {
   "cell_type": "markdown",
   "id": "b30fea85",
   "metadata": {},
   "source": [
    "### Q41: Write a Python program to read the contents of a file and display it."
   ]
  },
  {
   "cell_type": "code",
   "execution_count": null,
   "id": "452f7b7d",
   "metadata": {},
   "outputs": [],
   "source": [
    "with open(\"example.txt\", \"r\") as file:\n",
    "    print(file.read())"
   ]
  },
  {
   "cell_type": "markdown",
   "id": "5d204dff",
   "metadata": {},
   "source": [
    "### Q42: Count the number of words in a file."
   ]
  },
  {
   "cell_type": "code",
   "execution_count": null,
   "id": "9a4d36d2",
   "metadata": {},
   "outputs": [],
   "source": [
    "with open(\"example.txt\", \"r\") as file:\n",
    "    text = file.read()\n",
    "    print(len(text.split()))"
   ]
  },
  {
   "cell_type": "markdown",
   "id": "2f0ae2c0",
   "metadata": {},
   "source": [
    "### Q43: Copy contents of one file to another."
   ]
  },
  {
   "cell_type": "code",
   "execution_count": null,
   "id": "a1c43da4",
   "metadata": {},
   "outputs": [],
   "source": [
    "with open(\"source.txt\", \"r\") as src, open(\"destination.txt\", \"w\") as dest:\n",
    "    dest.write(src.read())"
   ]
  },
  {
   "cell_type": "markdown",
   "id": "ae0dd57a",
   "metadata": {},
   "source": [
    "### Q44: Print only the lines that have more than 50 characters from a text file."
   ]
  },
  {
   "cell_type": "code",
   "execution_count": null,
   "id": "691f277f",
   "metadata": {},
   "outputs": [],
   "source": [
    "with open(\"example.txt\", \"r\") as file:\n",
    "    for line in file:\n",
    "        if len(line.strip()) > 50:\n",
    "            print(line.strip())"
   ]
  },
  {
   "cell_type": "markdown",
   "id": "04ebb6de",
   "metadata": {},
   "source": [
    "### Q45: Write a program to write a list of strings into a text file (one string per line)."
   ]
  },
  {
   "cell_type": "code",
   "execution_count": null,
   "id": "a6115476",
   "metadata": {},
   "outputs": [],
   "source": [
    "lines = [\"First line\", \"Second line\", \"Third line\"]\n",
    "with open(\"output.txt\", \"w\") as file:\n",
    "    for line in lines:\n",
    "        file.write(line + \"\\n\")"
   ]
  },
  {
   "cell_type": "markdown",
   "id": "745c8ec6",
   "metadata": {},
   "source": [
    "## Section E: Exception Handling (Q46–Q50)"
   ]
  },
  {
   "cell_type": "markdown",
   "id": "b87fbcf9",
   "metadata": {},
   "source": [
    "### Q46: Write a program to take two numbers as input and handle division by zero."
   ]
  },
  {
   "cell_type": "code",
   "execution_count": null,
   "id": "1e01a183",
   "metadata": {},
   "outputs": [],
   "source": [
    "try:\n",
    "    a = int(input(\"Enter numerator: \"))\n",
    "    b = int(input(\"Enter denominator: \"))\n",
    "    print(a / b)\n",
    "except ZeroDivisionError:\n",
    "    print(\"Cannot divide by zero.\")"
   ]
  },
  {
   "cell_type": "markdown",
   "id": "fd26b35b",
   "metadata": {},
   "source": [
    "### Q47: Handle invalid user input (e.g., entering a string when a number is expected)."
   ]
  },
  {
   "cell_type": "code",
   "execution_count": null,
   "id": "db270815",
   "metadata": {},
   "outputs": [],
   "source": [
    "try:\n",
    "    num = int(input(\"Enter a number: \"))\n",
    "    print(num)\n",
    "except ValueError:\n",
    "    print(\"Invalid input! Please enter a number.\")"
   ]
  },
  {
   "cell_type": "markdown",
   "id": "2459f6ac",
   "metadata": {},
   "source": [
    "### Q48: Try to open a file that doesn’t exist and handle the FileNotFoundError."
   ]
  },
  {
   "cell_type": "code",
   "execution_count": null,
   "id": "da303a92",
   "metadata": {},
   "outputs": [],
   "source": [
    "try:\n",
    "    with open(\"nonexistent.txt\", \"r\") as file:\n",
    "        print(file.read())\n",
    "except FileNotFoundError:\n",
    "    print(\"File not found.\")"
   ]
  },
  {
   "cell_type": "markdown",
   "id": "2596e865",
   "metadata": {},
   "source": [
    "### Q49: Create a list of numbers and try accessing an invalid index. Handle the exception gracefully."
   ]
  },
  {
   "cell_type": "code",
   "execution_count": null,
   "id": "bf64c59b",
   "metadata": {},
   "outputs": [],
   "source": [
    "nums = [1, 2, 3]\n",
    "try:\n",
    "    print(nums[5])\n",
    "except IndexError:\n",
    "    print(\"Index out of range.\")"
   ]
  },
  {
   "cell_type": "markdown",
   "id": "b454ea10",
   "metadata": {},
   "source": [
    "### Q50: Use a try-except-finally block to demonstrate the execution of the finally clause."
   ]
  },
  {
   "cell_type": "code",
   "execution_count": null,
   "id": "b59662f6",
   "metadata": {},
   "outputs": [],
   "source": [
    "try:\n",
    "    x = 10 / 0\n",
    "except ZeroDivisionError:\n",
    "    print(\"Error occurred.\")\n",
    "finally:\n",
    "    print(\"This is always executed.\")"
   ]
  }
 ],
 "metadata": {},
 "nbformat": 4,
 "nbformat_minor": 5
}
